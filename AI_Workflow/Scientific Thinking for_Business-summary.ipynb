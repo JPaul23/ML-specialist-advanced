{
 "cells": [
  {
   "cell_type": "markdown",
   "metadata": {},
   "source": [
    "## Scientific Thinking for Business"
   ]
  },
  {
   "cell_type": "markdown",
   "metadata": {},
   "source": [
    "Data science involves lots of investigation via trial and error. The investigations are based on evidence and this is one of the strongest reasons why data science is considered a \"real\" science.\n",
    "\n",
    "**Science is a process and the route to solving problems is not always direct**\n",
    "\n",
    "Pulling in data and jumping right into exploratory data analysis can make your work prone to exactly the types of negative issues that plague data science today.\n",
    "\n",
    "=> At the heart of this problem is the process of communicating results to leadership. It should begin with a *meaningful and well-articulated business opportunity*. If that opportunity is stated too simply, as say, increasing overall revenue then the central talking point for communication is too vague to be meaningful from the data side.\n",
    "\n",
    "`Important`: The business scenario needs to be communicated in a couple of ways:  1. Stated in a testable way in terms of data  2. Stated in a clear way that minimizes the influence of confounding factors"
   ]
  },
  {
   "cell_type": "markdown",
   "metadata": {},
   "source": [
    "### Testable hypotheses\n",
    "\n",
    "There is no one single best way to articulate a business opportunity as a testable hypothesis. In some cases the statement will be intuitive, but in other cases there will be some back and forth with stakeholders and domain experts.\n",
    "\n",
    "#### Guidelines for creating testable hypotheses\n",
    "\n",
    "1. **Become a scientist of the business**\n",
    "    Spend a little bit less time learning new algorithms and Python packages and more time learning the levers that make your specific business go up or down and the variables that impact those levers.\n",
    "\n",
    "2. **Make an effort to understand how data are produced**\n",
    "\n",
    "    If the data come from a database you should ask about the process by which the data are stored. If the data are compiled by another person then dig into the details and find out about the compiling process as well as the details of what happened before the data arrived on their desk.\n",
    "\n",
    "3. **Make yourself part of the business**\n",
    "    Do not under any circumstances become siloed. Proactively get involved with the business unit as a partner, not a support function.\n",
    "\n",
    "4. **Think about how to measure success**\n",
    "    When thinking about what course of action might be most appropriate, keep at the forefront of your mind how you will measure business value when said action is complete.\n"
   ]
  },
  {
   "cell_type": "markdown",
   "metadata": {},
   "source": [
    "### Thinking scientifically about the business scenario\n",
    "\n",
    "A major goal of this process is to make the *business objectives clear to leadership*. Some of these individuals are technical and some are not, so as a good rule-of-thumb get in the habit of articulating the business problem at a level that everyone can understand. *Stakeholders and leadership need to know what you are trying to accomplish* before you begin work. They also need to be aware from the start what *success would look like*."
   ]
  },
  {
   "cell_type": "markdown",
   "metadata": {},
   "source": [
    "### The Scientific Method\n",
    "\n",
    "`=>`The process by which science is carried out. The general idea is to build on previous knowledge in order to improve and understanding of a given topic.\n",
    "\n",
    "1. Formulate  the **question**\n",
    "2. Generate a **Hypothesis** to address the question\n",
    "3. Make a **Prediction**\n",
    "4. Conduct an **Experiment**\n",
    "5. **Analyze** data and draw conclusion\n",
    "\n",
    "**Question**\n",
    "\n",
    "The question can be open-ended and generally it summarizes your business opportunity. Let’s say you work for a small business that manufactures sleds and other winter gear and you are not sure which cities to build your next retail locations. You have heard that Utah, Colorado and Vermont are all states that have high rates of snowfall, but it is unclear which one has the highest rate of snowfall.\n",
    "\n",
    "**Hypothesis**\n",
    "\n",
    "Because the Rocky mountains are higher in elevation and they are well-known for fresh powder on their ski slopes, you hypothesize that both Utah and Colorado have more snow than Vermont.\n",
    "\n",
    "**Prediction**\n",
    "\n",
    "If you were to run a hypothesis test, you would find that Vermont has significantly less snow fall than Colorado or Utah.\n",
    "\n",
    "**Experiment**"
   ]
  },
  {
   "cell_type": "code",
   "execution_count": 2,
   "metadata": {},
   "outputs": [],
   "source": [
    "import pandas as pd\n",
    "df = pd.read_csv('snowfall.csv')"
   ]
  },
  {
   "cell_type": "code",
   "execution_count": 3,
   "metadata": {},
   "outputs": [
    {
     "name": "stdout",
     "output_type": "stream",
     "text": [
      "         count     mean      max\n",
      "      snowfall snowfall snowfall\n",
      "state                           \n",
      "CO           5    37.76     59.6\n",
      "UT           2    51.65     58.2\n",
      "VT           1    80.90     80.9\n"
     ]
    }
   ],
   "source": [
    "#subset data to focus on states of interest\n",
    "df1 = df[df['state'].isin(['CO','UT','VT'])]\n",
    "#create a pivot on relevant summary data\n",
    "df1_pivot = pd.pivot_table(df1, values='snowfall', index='state',\n",
    "                            aggfunc=['count', 'mean', 'max'])\n",
    "\n",
    "print(df1_pivot)\n"
   ]
  },
  {
   "cell_type": "markdown",
   "metadata": {},
   "source": [
    "**Analyze**\n",
    "\n",
    "There is not enough data to do a 1-way ANOVA. The experiment is not a failure; it has a few pieces of information.\n",
    "\n",
    "1. There is not enough data\n",
    "2. There is a small possibility that VT gets more snow on average than either CO or UT\n",
    "3. Our degree of belief in the conclusion drawn from (2) is very small because of (1)\n",
    "\n",
    "The notion of degree of belief is central to scientific thinking. In science the word belief, with respect to a hypothesis is proportional to the evidence.\n",
    "\n",
    "Evidence is derived from the process described above and if we have none then we are stuck at the question stage and a proper scientific hypothesis cannot be made.\n",
    "\n",
    "The other important side to degree of belief is that it never caps out at `100 percent certainty`. Some hypotheses have become laws like `Newton’s Law of Gravitation`, but most natural phenomena in the world outside of physics cannot be explained as a law.\n",
    "\n",
    "A hypothesis is the simplest explanation of a phenomenon. *A scientific theory is an in-depth explanation of the observed phenomenon.*\n",
    "\n",
    "There are additional factors like *external peer review* that help ensure the integrity of the scientific method and in the case of implementing a model for a specific business task this could mean assigning reviewers for a pull request or simply asking other qualified individuals to check over your work. "
   ]
  },
  {
   "cell_type": "markdown",
   "metadata": {},
   "source": [
    "## Gathering Data\n",
    "### Documenting Data\n",
    "\n",
    "documenting data has potential to:\n",
    "1. Streamline the modeling Process\n",
    "2. Ensure that all future data come in improved form\n",
    "\n",
    "### ETL\n",
    "\n",
    "The process of gathering data is often referred to as `Extract`, `Transform` and `Load`.\n",
    "\n",
    "To ensure that projects are completed in a reasonable amount of time the initial pass at **ETL** should use a simple format like CSV, then a more complex system can be built out once you have accomplished the `Minimum Viable Product (MVP)`."
   ]
  },
  {
   "cell_type": "markdown",
   "metadata": {},
   "source": [
    "### Common methods of gathering data\n",
    "\n",
    "1. Plain text files\n",
    "2. Delimited files\n",
    "3. JSON files\n",
    "4. Relational Databases\n",
    "5. No-SQL databases\n",
    "6. Web scraping and APIs\n",
    "7. Streaming data\n",
    "\n",
    "    Data streams become important when the data of a project or company becomes mature and the AI pipeline is connected to it\n",
    "8. Apache Hadoop File Share (HDFS)\n",
    "\n",
    "`HINTS:`\n",
    "\n",
    "1.  A best practice when loading data from plain text or delimited files is to separate the code for parsing into its own script. Because the files are read line by line in a separate Python call, it is more memory efficient and this separation of tasks helps with automation and maintenance."
   ]
  },
  {
   "cell_type": "markdown",
   "metadata": {},
   "source": [
    "`Question:`\n",
    "When embarking on a data science project, why do you ultimately want to format your data so that it can be housed in something like a Pandas DataFrame or NumPy Array?\n",
    "\n",
    "`Answer:`\n",
    "Because most data science projects have a modeling component and most models depend on mathematical algorithms where a single observation is represented by a vector and a set of observations is represented by a matrix. Vectors and matrices are a central part of NumPy functionality, and Pandas Series and DataFrames extend this functionality when working with more heterogeneous data."
   ]
  }
 ],
 "metadata": {
  "interpreter": {
   "hash": "c78c2620cfc48e20e13718fba59ca172f269bd74e30704454013a9a438285adc"
  },
  "kernelspec": {
   "display_name": "Python 3.7.6 ('tensoflow')",
   "language": "python",
   "name": "python3"
  },
  "language_info": {
   "codemirror_mode": {
    "name": "ipython",
    "version": 3
   },
   "file_extension": ".py",
   "mimetype": "text/x-python",
   "name": "python",
   "nbconvert_exporter": "python",
   "pygments_lexer": "ipython3",
   "version": "3.7.6"
  },
  "orig_nbformat": 4
 },
 "nbformat": 4,
 "nbformat_minor": 2
}
